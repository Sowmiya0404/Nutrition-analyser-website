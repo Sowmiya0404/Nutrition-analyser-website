{
 "cells": [
  {
   "cell_type": "code",
   "execution_count": 1,
   "metadata": {},
   "outputs": [],
   "source": [
    "import sqlite3"
   ]
  },
  {
   "cell_type": "code",
   "execution_count": 2,
   "metadata": {},
   "outputs": [
    {
     "data": {
      "text/plain": [
       "<sqlite3.Cursor at 0x1cf266ca840>"
      ]
     },
     "execution_count": 2,
     "metadata": {},
     "output_type": "execute_result"
    }
   ],
   "source": [
    "conn = sqlite3.connect(\"food.db\")\n",
    "conn.execute('''CREATE TABLE food(FOOD TEXT NOT NULL,PROTEIN VARCHAR[10],SODIUM VARCHAR[10],FAT FLOAT[10],SUGAR FLOAT[10],FIBER FLOAT[10],CALORIES VARCHAR[10],CARBOHYDRATES FLOAT[10]);''')\n"
   ]
  },
  {
   "cell_type": "code",
   "execution_count": null,
   "metadata": {},
   "outputs": [],
   "source": [
    "food = ['BROCCOLI', 'CARROT', 'CAULIFLOWER','ONION','POTATO']\n",
    "\n",
    "protein =['12.2g','3.1g','3.9g','1.7g','12.2g']\n",
    "sodium =['640mg','120mg','94mg','75mg','640mg']\n",
    "fat =['10.4g','3.7g','3.7g','0.4g','10.4g']\n",
    "sugar =['3.8g','1.2g','0.2g','0.1g','3.8g']\n",
    "fiber =['2.5g','3.9g','0.9g','0.5g','2.8g']\n",
    "calories =['285','120','168','58','258']\n",
    "carbohydrates =['35.6g','18g','29g','12g','35.6g']\n",
    "cholesterol = ['0 mg','0 mg','0 mg','0 mg','0 mg']\n",
    "\n",
    "for i in range(len(food)):\n",
    "    conn.execute(f'''INSERT INTO food VALUES('{food[i]}',\"{protein[i]}\",\"{sodium[i]}\",\"{fat[i]}\",\"{sugar[i]}\",\"{fiber[i]}\",\"{calories[i]}\",\"{carbohydrates[i]}\")''')\n",
    "conn.commit()"
   ]
  }
 ],
 "metadata": {
  "kernelspec": {
   "display_name": "Python 3",
   "language": "python",
   "name": "python3"
  },
  "language_info": {
   "codemirror_mode": {
    "name": "ipython",
    "version": 3
   },
   "file_extension": ".py",
   "mimetype": "text/x-python",
   "name": "python",
   "nbconvert_exporter": "python",
   "pygments_lexer": "ipython3",
   "version": "3.10.8"
  },
  "orig_nbformat": 4
 },
 "nbformat": 4,
 "nbformat_minor": 2
}
